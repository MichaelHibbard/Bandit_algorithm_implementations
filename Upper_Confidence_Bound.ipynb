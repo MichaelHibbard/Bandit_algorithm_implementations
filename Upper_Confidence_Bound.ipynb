{
 "cells": [
  {
   "cell_type": "code",
   "execution_count": 9,
   "metadata": {},
   "outputs": [],
   "source": [
    "# KEY IDEA: an algorithm should explore arms more often if they are...\n",
    "#\n",
    "#   (a) promising, based on a large empirical mean \\hat(mu)(t-1)\n",
    "#   (b) not well explored, i.e., T_i(t-1) is small (arm has not been picked often)\n",
    "\n",
    "# An \"\"INDEX ALGORITHM\"\" chooses the arm in each round that maximises some value\n",
    "# (the \"\"INDEX\"\" of the set of arms) which depends on the time step and the samples\n",
    "# from that arm\n",
    "\n",
    "# The Upper confidence bound (UCB(\\delta)) sets the index of an arm as the sum of \n",
    "# the empirical mean and the so-called \"\"EXPLORATION BONUS\"\", which is\n",
    "# the confidence width of the arm.\n",
    "\n",
    "# As with most algorithms, there is an art in choosing a satisfactory value of \n",
    "# the value of the confidence level, \\delta.\n",
    "\n",
    "# EXERCISE 7.8: empirical comparison\n",
    "import numpy as np\n",
    "import matplotlib.pyplot as plt\n",
    "from scipy.stats import norm"
   ]
  },
  {
   "cell_type": "code",
   "execution_count": 10,
   "metadata": {},
   "outputs": [],
   "source": [
    "# Again define the Gaussian bandit (just being lazy and copy-pasting)\n",
    "class Gaussian_Bandit:\n",
    "    \n",
    "    # Accept a list of K >= 2 floats, representing means of\n",
    "    # Gaussian distributions for each bandit arm\n",
    "    def __init__(self,means):\n",
    "        self.bandit_means = means\n",
    "        self.rand_regret = 0\n",
    "        self.pseudo_rand_regret = 0\n",
    "        self.best_mean = max(self.bandit_means)\n",
    "    \n",
    "    # Function that returns the number of bandit arms\n",
    "    def K(self):\n",
    "        return len(self.bandit_means)\n",
    "    \n",
    "    # Accepts a parameter 0 <= a <= K-1 and returns the\n",
    "    # realization of random variable X with P(X=1) being the\n",
    "    # mean of the (a+1)^th arm.\n",
    "    def pull(self,a):\n",
    "        selected_arm_mean = self.bandit_means[a]\n",
    "        selected_arm_sample = norm.rvs(loc=selected_arm_mean,size=1)\n",
    "        self.rand_regret = self.rand_regret + (self.best_mean - selected_arm_sample)\n",
    "        self.pseudo_rand_regret = self.pseudo_rand_regret + (self.best_mean - selected_arm_sample)\n",
    "        return selected_arm_sample\n",
    "    \n",
    "    # Returns the regret incurred so far.\n",
    "    def random_regret(self):\n",
    "        return self.rand_regret\n",
    "    \n",
    "    def pseudo_random_regret(self):\n",
    "        return self.pseudo_rand_regret"
   ]
  },
  {
   "cell_type": "code",
   "execution_count": 19,
   "metadata": {},
   "outputs": [],
   "source": [
    "# Define the UCB algorithm\n",
    "def UCB_algorithm(n,bandit):\n",
    "\n",
    "    arm_sample_sums = np.zeros((bandit.K(),1))\n",
    "    arm_sample_means = np.zeros((bandit.K(),1))\n",
    "    arm_values_T = np.zeros((bandit.K(),1))\n",
    "    arm_indices = np.zeros((bandit.K(),1))\n",
    "    \n",
    "    # First, test the value of each arm once (tie break as default is \\infty)\n",
    "    for i in range(bandit.K()):\n",
    "        arm_sample_sums[i] += bandit.pull(i)\n",
    "        arm_values_T[i] += 1\n",
    "        arm_sample_means[i] = (1/arm_values_T[i])*arm_sample_sums[i]\n",
    "    \n",
    "    # Over the remaining time horizon, choose the arm with the optimal index\n",
    "    for i in range(n-bandit.K()):\n",
    "        \n",
    "        # Need to account for fact already sampled twice and that\n",
    "        # Python starts indexing from zero.\n",
    "        lc_delta = (1/(i+3))**2 \n",
    "        \n",
    "        # Compute current arm index for each arm\n",
    "        for j in range(bandit.K()):\n",
    "            arm_indices[j] = arm_sample_means[j] + np.sqrt(2*np.log2(1/lc_delta)/arm_values_T[j])\n",
    "        \n",
    "        # Obtain the optimal arm index\n",
    "        optimal_arm = np.argmax(arm_indices)\n",
    "        # Sample the arm with the optimal index\n",
    "        sample = bandit.pull(optimal_arm)\n",
    "        # Iterate the number of times that the arm has been chosen\n",
    "        arm_values_T[optimal_arm] += 1\n",
    "        # Recalculate the arm sample mean\n",
    "        arm_sample_sums[optimal_arm] += sample\n",
    "        arm_sample_means[optimal_arm] = (1/arm_values_T[optimal_arm])*arm_sample_sums[optimal_arm]\n",
    "        \n",
    "    return bandit.rand_regret"
   ]
  },
  {
   "cell_type": "code",
   "execution_count": 33,
   "metadata": {},
   "outputs": [
    {
     "data": {
      "image/png": "[encoded data removed]",
      "text/plain": [
       "<Figure size 432x288 with 1 Axes>"
      ]
     },
     "metadata": {
      "needs_background": "light"
     },
     "output_type": "display_data"
    }
   ],
   "source": [
    "# (a): Implement Algorithm 3 on page 102 (do only for UCB, refer to previous to\n",
    "# compare to ETC algorithms).\n",
    "\n",
    "def main():\n",
    "    num_delta_vals = 50\n",
    "    num_tr_per_del = 500\n",
    "    n = 1000\n",
    "    delta_vals = np.linspace(0.05,0.95,num_delta_vals)\n",
    "    regrets = np.zeros((num_delta_vals,1))\n",
    "    for i in range(num_delta_vals):\n",
    "        for j in range(num_tr_per_del):\n",
    "            cur_delta = delta_vals[i]\n",
    "            K = [0,cur_delta]\n",
    "            cur_bandit = Gaussian_Bandit(K)\n",
    "            regrets[i] += UCB_algorithm(n,cur_bandit)\n",
    "    regrets = (1/num_tr_per_del)*regrets[:]\n",
    "    \n",
    "    plt.figure()\n",
    "    plt.plot(delta_vals,regrets)\n",
    "\n",
    "if __name__ == \"__main__\":\n",
    "    main()"
   ]
  },
  {
   "cell_type": "code",
   "execution_count": null,
   "metadata": {},
   "outputs": [],
   "source": []
  }
 ],
 "metadata": {
  "kernelspec": {
   "display_name": "Python 3",
   "language": "python",
   "name": "python3"
  },
  "language_info": {
   "codemirror_mode": {
    "name": "ipython",
    "version": 3
   },
   "file_extension": ".py",
   "mimetype": "text/x-python",
   "name": "python",
   "nbconvert_exporter": "python",
   "pygments_lexer": "ipython3",
   "version": "3.6.5"
  }
 },
 "nbformat": 4,
 "nbformat_minor": 4
}
