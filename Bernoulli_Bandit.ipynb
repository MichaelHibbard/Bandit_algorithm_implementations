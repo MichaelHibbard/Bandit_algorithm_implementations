{
 "cells": [
  {
   "cell_type": "code",
   "execution_count": 44,
   "metadata": {},
   "outputs": [],
   "source": [
    "import numpy as np\n",
    "from scipy.stats import bernoulli\n",
    "\n",
    "class Bernoulli_Bandit:\n",
    "    \n",
    "    # Accept a list of K >= 2 floats, each lying in [0,1]\n",
    "    def __init__(self,means):\n",
    "        self.bandit_means = means\n",
    "        self.rand_regret = 0\n",
    "        self.pseudo_rand_regret = 0\n",
    "        self.best_mean = max(self.bandit_means)\n",
    "    \n",
    "    # Function that returns the number of bandit arms\n",
    "    def K(self):\n",
    "        return len(self.bandit_means)\n",
    "    \n",
    "    # Accepts a parameter 0 <= a <= K-1 and returns the\n",
    "    # realization of random variable X with P(X=1) being the\n",
    "    # mean of the (a+1)^th arm.\n",
    "    def pull(self,a):\n",
    "        selected_arm_mean = self.bandit_means[a]\n",
    "        selected_arm_sample = bernoulli.rvs(selected_arm_mean,size=1)\n",
    "        self.rand_regret = self.rand_regret + (self.best_mean - selected_arm_sample)\n",
    "        self.pseudo_rand_regret = self.pseudo_rand_regret + (self.best_mean - selected_arm_sample)\n",
    "        return selected_arm_sample\n",
    "    \n",
    "    # Returns the regret incurred so far.\n",
    "    def rand_regret(self):\n",
    "        return self.rand_regret\n",
    "    \n",
    "    def pseudo_rand_regret(self):\n",
    "        return self.pseudo_rand_regret"
   ]
  },
  {
   "cell_type": "code",
   "execution_count": 45,
   "metadata": {},
   "outputs": [],
   "source": [
    "def greedy_algorithm(bandit,n):\n",
    "    \n",
    "    # Implement a greedy algorithm for arm selection\n",
    "    arm_values = np.zeros((bandit.K(),1))\n",
    "    \n",
    "    # First, test the value of each arm once\n",
    "    for i in range(bandit.K()):\n",
    "        arm_values[i] = bandit.pull(i)\n",
    "    \n",
    "    # Second, exploit the arm with the best value\n",
    "    best_arm = np.argmax(arm_values)\n",
    "    \n",
    "    # NOTE: IN A REAL IMPLEMENTATION, WILL LIKELY \n",
    "    # HAVE AT LEAST ONE ARM WITH VALUE 1 AFTER A\n",
    "    # SINGLE PULL -> SHOULD THEN RANDOMLY CHOOSE\n",
    "    # BETWEEN THESE ARMS, I AM JUST PICKING THE\n",
    "    # FIRST ONE THAT OBTAINED THE MAXIMUM VALUE\n",
    "    \n",
    "    for j in range(n-bandit.K()):\n",
    "        bandit.pull(best_arm)\n",
    "        "
   ]
  },
  {
   "cell_type": "code",
   "execution_count": 46,
   "metadata": {},
   "outputs": [],
   "source": [
    "def main():\n",
    "    \n",
    "    arm_values = [0.5,0.65,0.1,0.25]\n",
    "    num_trials = 100\n",
    "    my_bandit = Bernoulli_Bandit(arm_values)\n",
    "    greedy_algorithm(my_bandit,num_trials)\n",
    "\n",
    "if __name__ == \"__main__\":\n",
    "    main()"
   ]
  },
  {
   "cell_type": "code",
   "execution_count": 10,
   "metadata": {},
   "outputs": [
    {
     "name": "stdout",
     "output_type": "stream",
     "text": [
      "3\n"
     ]
    }
   ],
   "source": [
    "a = np.array([1,2,3,4,2,4,1])\n",
    "print(np.argmax(a))"
   ]
  },
  {
   "cell_type": "code",
   "execution_count": null,
   "metadata": {},
   "outputs": [],
   "source": []
  }
 ],
 "metadata": {
  "kernelspec": {
   "display_name": "Python 3",
   "language": "python",
   "name": "python3"
  },
  "language_info": {
   "codemirror_mode": {
    "name": "ipython",
    "version": 3
   },
   "file_extension": ".py",
   "mimetype": "text/x-python",
   "name": "python",
   "nbconvert_exporter": "python",
   "pygments_lexer": "ipython3",
   "version": "3.6.5"
  }
 },
 "nbformat": 4,
 "nbformat_minor": 4
}
